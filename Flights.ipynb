{
 "cells": [
  {
   "cell_type": "code",
   "execution_count": 3,
   "metadata": {},
   "outputs": [],
   "source": [
    "import pandas as pd\n",
    "import numpy as np\n",
    "import itertools as it\n",
    "flight_schedule0 = [['T1','HOU', 'AUS', 360, 405],\n",
    "                   ['T2', 'AUS', 'HOU', 360, 405],\n",
    "                   ['T3', 'HOU', 'DAL', 360, 425],\n",
    "                   ['T4', 'HOU', 'DAL', 360, 425],\n",
    "                   ['T5', 'DAL', 'HOU', 360, 425],\n",
    "                   ['T6', 'DAL', 'HOU', 360, 425]]\n",
    "\n",
    "#Defining a function to convert minutes after midnight to military time\n",
    "def mid_to_mil(t):\n",
    "    x = int(t)\n",
    "    mil_time_conv = str(int(t/60)).zfill(2) + str(int(t%60)).zfill(2)\n",
    "    return(mil_time_conv)\n",
    "\n",
    "#Converting the list of lists to a list\n",
    "merged = list(it.chain.from_iterable(flight_schedule0))\n",
    "\n",
    "#Creating a list for flight times\n",
    "flight_times = [ ['AUSDAL', 50], ['DALAUS' , 50], ['HOUDAL' , 65], ['DALHOU', 65], ['AUSHOU', 45], ['HOUAUS', 45] ]\n",
    "flight_time = [flight_times[5][1],flight_times[4][1],flight_times[2][1],flight_times[2][1],flight_times[3][1],flight_times[3][1],]\n",
    "\n",
    "#Iterating the loop till atleast one tail departs and arrives before 2200(that is 1320 mins after midnight) \n",
    "temp_list1 = []\n",
    "c = 0\n",
    "while c < 1320:\n",
    "    flight_schedule0\n",
    "    for b in range(0,6):\n",
    "#Creating a list for ground times at respective cities and calculating the next immediate schedule\n",
    "        upt_dpt_lst = []\n",
    "        for a in range (0,6):\n",
    "            if flight_schedule0[a][2] == 'AUS':\n",
    "                departure_at_city2 = int(flight_schedule0[a][4])+25\n",
    "            elif (flight_schedule0[a][2] == 'DAL'):\n",
    "                departure_at_city2 = int(flight_schedule0[a][4])+30\n",
    "            elif (flight_schedule0[a][2] == 'HOU'):\n",
    "                departure_at_city2 = int(flight_schedule0[a][4])+35\n",
    "            upt_dpt_lst.append(departure_at_city2)\n",
    "        new_schedule = flight_schedule0\n",
    "        new_schedule.append([(str(flight_schedule0[b][0])),(flight_schedule0[b][2]),(flight_schedule0[b][1]),(upt_dpt_lst[b]),(upt_dpt_lst[b]+flight_time[b])])\n",
    "        temp_list = list([(str(flight_schedule0[b][0])),(flight_schedule0[b][2]),(flight_schedule0[b][1]),(upt_dpt_lst[b]),(upt_dpt_lst[b]+flight_time[b])]) \n",
    "        temp_list1=temp_list1+temp_list\n",
    "        c = flight_schedule0[b][4]\n",
    "        \n",
    "#Updating the input to the loop to perform next iteration\n",
    "    flight_schedule0 = new_schedule[-6:]\n",
    "temp_list2 = merged+temp_list1\n",
    "\n",
    "#Converting the list into dataframe using pandas\n",
    "df = pd.DataFrame((np.array(temp_list2)).reshape(72,5),columns = ['tail_number','origin','destination','departure_time','arrival_time'])\n",
    "\n",
    "#Converting the arrivel_time and departure_time columns into integers and applying the function to convert minutes from midnight to military time\n",
    "df_arr = df['arrival_time'].apply(int)\n",
    "df['arrival_time'] = df_arr.apply(mid_to_mil)\n",
    "df_dep = df['departure_time'].apply(int)\n",
    "df['departure_time'] = df_dep.apply(mid_to_mil)\n",
    "df['arrival_time'] = df['arrival_time'].apply(int)\n",
    "\n",
    "#filtering out the flights that fly or reach after 2200 and writing the dataframe to csv file\n",
    "df = df.sort_values(['tail_number','departure_time'],ascending=[True,True])\n",
    "df_filtered = df[df['arrival_time'] < 2200]\n",
    "df_filtered_a = df_filtered\n",
    "df_filtered_a.is_copy = False\n",
    "df_filtered_a['arrival_time'] = df_filtered_a['arrival_time'].astype(str).str.zfill(4)\n",
    "df_filtered_a.to_csv('flight_schedule.csv', index = False)"
   ]
  },
  {
   "cell_type": "code",
   "execution_count": null,
   "metadata": {
    "collapsed": true
   },
   "outputs": [],
   "source": []
  }
 ],
 "metadata": {
  "kernelspec": {
   "display_name": "Python 3",
   "language": "python",
   "name": "python3"
  },
  "language_info": {
   "codemirror_mode": {
    "name": "ipython",
    "version": 3
   },
   "file_extension": ".py",
   "mimetype": "text/x-python",
   "name": "python",
   "nbconvert_exporter": "python",
   "pygments_lexer": "ipython3",
   "version": "3.6.1"
  }
 },
 "nbformat": 4,
 "nbformat_minor": 2
}
